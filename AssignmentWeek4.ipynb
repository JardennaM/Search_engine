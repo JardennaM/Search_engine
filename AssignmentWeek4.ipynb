{
 "cells": [
  {
   "cell_type": "markdown",
   "metadata": {},
   "source": [
    "# Zoekmachines"
   ]
  },
  {
   "cell_type": "markdown",
   "metadata": {},
   "source": [
    "## Notebook made by\n",
    "\n",
    "__Name__: \n",
    "\n",
    "__Student id__ : "
   ]
  },
  {
   "cell_type": "markdown",
   "metadata": {},
   "source": [
    "## Toelichting\n",
    "\n",
    "* De meeste opgaven worden automatisch nagekeken. Bij vrijwel alle opdrachten staan er een paar zichtbare tests onder de opdracht, dit is voornamelijk om te zorgen dat je de juiste type output geeft. De andere tests worden na inleveren toegevoegd aan die cell.\n",
    "\n",
    "## Voor het inleveren!\n",
    "\n",
    "* Pas niet de cellen aan, vooral niet die je niet kunt editen. Dit levert problemen op bij nakijken. Twijfel je of je per ongeluk iets hebt gewijzigd, kopieer dan bij inleveren je antwoorden naar een nieuw bestand, zodat het niet fout kan gaan.\n",
    "\n",
    "* Zorg dat de code goed runt van boven naar beneden, verifieer dat door boven in Kernel -> Restart & Run All uit te voeren"
   ]
  },
  {
   "cell_type": "markdown",
   "metadata": {
    "toc": true
   },
   "source": [
    "<h1>Table of Contents<span class=\"tocSkip\"></span></h1>\n",
    "<div class=\"toc\"><ul class=\"toc-item\"><li><span><a href=\"#Group-Assignment--Create-your-own-search-engine\" data-toc-modified-id=\"Group-Assignment--Create-your-own-search-engine-1\"><span class=\"toc-item-num\">1&nbsp;&nbsp;</span>Group Assignment  Create your own search engine</a></span><ul class=\"toc-item\"><li><span><a href=\"#Notebook-made-by\" data-toc-modified-id=\"Notebook-made-by-1.1\"><span class=\"toc-item-num\">1.1&nbsp;&nbsp;</span>Notebook made by</a></span></li></ul></li><li><span><a href=\"#Assignment\" data-toc-modified-id=\"Assignment-2\"><span class=\"toc-item-num\">2&nbsp;&nbsp;</span>Assignment</a></span><ul class=\"toc-item\"><li><ul class=\"toc-item\"><li><span><a href=\"#Standard-option\" data-toc-modified-id=\"Standard-option-2.0.1\"><span class=\"toc-item-num\">2.0.1&nbsp;&nbsp;</span>Standard option</a></span></li><li><span><a href=\"#Other-options\" data-toc-modified-id=\"Other-options-2.0.2\"><span class=\"toc-item-num\">2.0.2&nbsp;&nbsp;</span>Other options</a></span></li></ul></li><li><span><a href=\"#Requirements\" data-toc-modified-id=\"Requirements-2.1\"><span class=\"toc-item-num\">2.1&nbsp;&nbsp;</span>Requirements</a></span></li><li><span><a href=\"#Presentation\" data-toc-modified-id=\"Presentation-2.2\"><span class=\"toc-item-num\">2.2&nbsp;&nbsp;</span>Presentation</a></span></li><li><span><a href=\"#How-you-will-be-marked\" data-toc-modified-id=\"How-you-will-be-marked-2.3\"><span class=\"toc-item-num\">2.3&nbsp;&nbsp;</span>How you will be marked</a></span></li><li><span><a href=\"#How-your-grade-is-computed?\" data-toc-modified-id=\"How-your-grade-is-computed?-2.4\"><span class=\"toc-item-num\">2.4&nbsp;&nbsp;</span>How your grade is computed?</a></span></li></ul></li><li><span><a href=\"#How-to-hand-in?\" data-toc-modified-id=\"How-to-hand-in?-3\"><span class=\"toc-item-num\">3&nbsp;&nbsp;</span>How to hand in?</a></span><ul class=\"toc-item\"><li><span><a href=\"#Fill-in-form\" data-toc-modified-id=\"Fill-in-form-3.1\"><span class=\"toc-item-num\">3.1&nbsp;&nbsp;</span>Fill in form</a></span></li><li><span><a href=\"#Hand-in-notebook-on-Canvas\" data-toc-modified-id=\"Hand-in-notebook-on-Canvas-3.2\"><span class=\"toc-item-num\">3.2&nbsp;&nbsp;</span>Hand in notebook on Canvas</a></span></li></ul></li></ul></div>"
   ]
  },
  {
   "cell_type": "markdown",
   "metadata": {},
   "source": [
    "# Group Assignment  Create your own search engine\n",
    "\n",
    "* Get acquainted with <a href='http://www.elasticsearch.org/guide/en/elasticsearch/guide/current/index.html'>ElasticSearch</a> \n",
    "using this <a href='http://nbviewer.ipython.org/url/maartenmarx.nl/teaching/zoekmachines//NoteBooks/ElasticSearch.ipynb'>Notebook with first Elastic Search steps plus the python API</a>.\n",
    "* We especially recommend to start making a baby search engine using the Ted talk dataset and using IPyton widgets.\n",
    "    * [This blogpost](https://towardsdatascience.com/interactive-controls-for-jupyter-notebooks-f5c94829aee6) is a good introduction to these widgets.\n",
    "    * Using widgets you **never** have to leave the notebook, and do not have to bother with HTML, http, servers, etc. But still you have a great looking interactive demo site. "
   ]
  },
  {
   "cell_type": "markdown",
   "metadata": {},
   "source": [
    "## Notebook made by  \n",
    "\n",
    "__Name(s)__: \n",
    "\n",
    "__Student id(s)__ : \n",
    "\n",
    " "
   ]
  },
  {
   "cell_type": "markdown",
   "metadata": {},
   "source": [
    "# Assignment \n",
    "\n",
    "\n",
    "### Standard option\n",
    "Create a search engine in ElasticSearch for one of the collections listed below:\n",
    "\n",
    "\n",
    " \n",
    "\n",
    "* Wikipedia: dumps are available at <https://dumps.wikimedia.org/nlwiki/latest/> You should get the file <https://dumps.wikimedia.org/nlwiki/latest/nlwiki-latest-pages-articles.xml.bz2> (everything) or a smaller part to start with, e.g., <https://dumps.wikimedia.org/nlwiki/latest/nlwiki-latest-pages-articles1.xml.bz2>\n",
    "* A Kaggle dataset.\n",
    "    * Last year we had Ted Talks, Stackoverflow R questions, lyrics, airbnb, **so these are boring**\n",
    "        * Ted Talks is of course only for playing and getting started\n",
    "    * **Maximally 2 groups can use the same dataset. You organize this yourself.**\n",
    "    * You **must** connect at least two separate datafiles/datasets, and \"join\" these in your elastic search index.\n",
    "        * E.g. the questions and best answer in the stackoverflow set, joined with the tags of the questions. \n",
    "        * Or, a dataset about lyrics witha  wikipedia link to the artist. Then you add the text from those wikipedia pages. \n",
    "* the _kamervragen_ collection is also used before: <http://maartenmarx.nl/teaching/zoekmachines/Data/> (  so make your assignment extra exciting)\n",
    "* \n",
    "<!-- \n",
    "* Enron email dataset: see e.g. <https://www.cs.cmu.edu/~./enron/>\n",
    "* 400K questions and 1.4M answers from goeievraag.nl: <http://maartenmarx.nl/teaching/zoekmachines/Data/goeievraag.zip>\n",
    "* ~~[Hillary Clinton Email collection](https://archive.org/details/hillary-clinton-emails-august-31-release) See also our <http://maartenmarx.nl/teaching/zoekmachines/Data/> folder.~~\n",
    "* [part of ArchivX](http://www.cs.cornell.edu/projects/kddcup/datasets.html) Scientific articles in latex, with lots of metadata\n",
    "* the <a href=\"http://kdd.ics.uci.edu/databases/reuters21578/reuters21578.html\">Reuters newspaper collection</a>  \n",
    "-->\n",
    "             \n",
    "            \n",
    " \n",
    "   \n",
    "### Other options\n",
    "* Provided that you come up with a non trivial collection you can create a search engine using a different collection and also different software, as long as it is not done in MySQL.\n",
    "* Discuss this with the assistants.\n",
    "    * Convince us that your data set is interesting and your software solution worthwhile investigating.\n",
    "* For the presentations it is fun to see something else.\n",
    "* Usually it has a positive effect on your mark if you do something completely different ;-)\n",
    "* You should do the same requirements.\n",
    "\n"
   ]
  },
  {
   "cell_type": "markdown",
   "metadata": {
    "collapsed": true
   },
   "source": [
    "<h2>Requirements</h2>\n",
    "\n",
    "<p>You hand in one well constructed IPython notebook with a clear section for each of the following 6 points.\n",
    "    It is great if you have a running demo. Please give the link to it. Also link to the github page of your project.\n",
    "    </p>\n",
    "<p>Each of the following points <strong>must</strong> be addressed.  \n",
    "Explain what you did, and exemplify with links to screenshots/a working system.</p>\n",
    "<ol>\n",
    "<li>Search as we know it from Google. Give a result page (SERP), with links to the documents and some description of each hit.</li>\n",
    "    <li>Advanced search. Let a user be able to search in several fields, also in several fields simulteanously. Queries like \"_return articles with a title  about XXX  and which are   about YYY in the period ZZZ_\" should be possible. If you do not have timestamps in your data, then you must have some other facet(s) on which can be filtered.\n",
    "     </li>\n",
    "<li>Do one of the following: (Hint: ElasticSearch can also make wordclouds for you)\n",
    "    <ol><li>Represent the (top k) hits of a query with a wordcloud of 25-50 informative words. The wordcloud should somehow summarise what the collection has to say about the query.\n",
    "    You may think of these words as words that you could add to the query in order to improve recall (blind relevance feedback/query expansion). </li>\n",
    "        <li>Represent each document   with a word-cloud. </li></ol>\n",
    "<br/>You can use several techniques to get rid of high frequency, but meaningless words: of course IDF, but also mutual information (see 13.5.1), or of course the technique from the paper by Kaptein et al on wordclouds.\n",
    "</li>\n",
    "  <!--  <li>Group (nearly) identical documents. It is bad if two or more of the precious places of your top ten hits are occupied by near identical copies of a document.\n",
    "    Even more so if it is not relevant! So, get rid of these, by grouping them for instance. You get an idea of these duplicates if you search for \"neuken\".</li>\n",
    "    -->\n",
    "    <li>Give next to a traditional list of results, a timeline in which you indicate how many hits there are over time.  This can only be done if your \"documents\" have timestamps. See <a href='https://trends.google.nl/trends/explore?q=elasticsearch&geo=NL'>Google trends</a> for an example. This is of course, simply a histogram of the number of hits per time period. If you do not have timestamps, do something else with a fancy graphic.\n",
    "    </li>\n",
    "    <li>Provide Faceted Search next to the traditional list of results. For the \"Reuters\" collection, use the Category information as facet values. <a href='https://blog.linkedin.com/2009/12/14/linkedin-faceted-search'>See this example</a>.</li>\n",
    "    <li><strong>Evaluate your results</strong> Let 2 persons assess the relevancy of the top 10 documents for <strong>5 different queries</strong>. Compute Cohen's kappa. Determine the average precision at 10 for your system based on these 5 queries, and the two relevance assesments. \n",
    "        Also plot the P@10 (for both judges) for each query, showing differences in hard and easy queries.  \n",
    "        Describe clearly how you solved differences in judgements.\n",
    "    <br/>\n",
    "    Create your queries in the following format:\n",
    "<pre>\n",
    "&lt;topic number=\"6\"  >\n",
    "    &lt;query>kcs&lt;/query>\n",
    "    &lt;description>Find information on the Kansas City Southern railroad.\n",
    "    &lt;/description>\n",
    "\n",
    "&lt;/topic>\n",
    "\n",
    "&lt;topic number=\"16\"  >\n",
    "    &lt;query>arizona game and fish&lt;/query>\n",
    "    &lt;description>I'm looking for information about fishing and hunting\n",
    "    in Arizona.\n",
    "    &lt;/description>\n",
    "&lt;/topic>\n",
    "</pre>\n",
    "    So, both provide the actual query, and a description of the information need that was behind the query.\n",
    "    <br/>\n",
    "    Give a small set of clear guidelines for judging the results, and let your judges follow these guidelines.\n",
    "    <br/>\n",
    "    It is far more interesting to have difficult queries (both for the search engine and for the judges) than to have queries on which all ten retrieved documents are relevant.\n",
    "    So, try to create a good list of information needs.\n",
    "<br/>\n",
    "Change the ranking of your system, compute the average precision at 10 using your 5 queries, compare the results to your old system, and EXPLAIN what is going on.\n",
    "</li>\n",
    "\n",
    "</ol>\n",
    "\n",
    "<h2>Presentation</h2>\n",
    "<p>During your presentation you should have a live working search engine, that you demonstrate on the spot. Your presentation should be structured so that you will show all  requirements.\n",
    "You will be asked to show how your system works using information needs coming  from the audience.</p>\n",
    "<p>**Hint:** focus on a special aspect of your project. Everyone has done something similar, so your audience knows what was hard and what was terrible. Pick something you think will interest them.</p>\n",
    "\n",
    "\n",
    "<h2>How you will be marked</h2>\n",
    "<ul>\n",
    "    <li>Hand in a notebook on canvas</li>\n",
    "<li>It  should contain:\n",
    "    <ol>\n",
    "        <li>The group name, the names and student numbers of the project members</li>\n",
    "        <li>A link to the slides of your presentation</li>\n",
    "        <li>A link to the github page of your project, and best, a link to a live working demo.</li>\n",
    "        <li>A table of contents, with links to   each of the \"must-have\" points listed above.\n",
    "        <br/>During grading, you will receive points for each of the points. So make it crystal clear where they are adressed in your wiki. Use one page per point.</li>\n",
    "\n",
    "\n",
    "</ol>\n",
    "</li>\n",
    "<li>The section for each point should contain, all rather briefly,\n",
    "<ol>\n",
    "<li>What you did and why you choose to do it in your special way.</li>\n",
    "<li>Examples of what works, and what does not work (very well).</li>\n",
    "<li>An evaluation of the quality of your work in 3-4 sentences.</li>\n",
    "</ol></li>\n",
    "<li>Clickable links to a live working demo are <strong>highly appreciated</strong>. </li>\n",
    "</ul>\n",
    "\n",
    "\n",
    "<h2>How your grade is computed?</h2>\n",
    "You get a grade between 0 and 1 for each of the 6 points plus for the presentation. \n",
    "They are weighted as follows to arrive at your final grade.\n",
    "<pre>\n",
    "1: .1\n",
    "2: .2\n",
    "3: .2\n",
    "4: .1\n",
    "5: .1\n",
    "6: .2\n",
    "presentation : .1\n",
    "</pre>\n"
   ]
  },
  {
   "cell_type": "markdown",
   "metadata": {},
   "source": [
    "# How to hand in?\n",
    "\n",
    "## Fill in form\n",
    "\n",
    "Fill in the form on <https://forms.gle/MbXWj11iAdgaV4Z29>\n",
    "\n",
    "## Hand in notebook on Canvas\n",
    "\n",
    "* Call it `AssignmentWeek4.ipynb`\n",
    "* **Only one** member hands in the notebook on Canvas. \n",
    "* Have the name of your group and all names and studentids of all participants clearly in the first cell  of the notebook.\n",
    "\n"
   ]
  },
  {
   "cell_type": "code",
   "execution_count": 1,
   "metadata": {},
   "outputs": [
    {
     "name": "stdout",
     "output_type": "stream",
     "text": [
      "java version \"1.8.0_221\"\r\n",
      "Java(TM) SE Runtime Environment (build 1.8.0_221-b11)\r\n",
      "Java HotSpot(TM) 64-Bit Server VM (build 25.221-b11, mixed mode)\r\n"
     ]
    }
   ],
   "source": [
    "! java -version"
   ]
  },
  {
   "cell_type": "code",
   "execution_count": 2,
   "metadata": {},
   "outputs": [
    {
     "name": "stdout",
     "output_type": "stream",
     "text": [
      "/Applications\n",
      "\n",
      "Archive:  elasticsearch-1.7.1.zip\n",
      "replace elasticsearch-1.7.1/config/elasticsearch.yml? [y]es, [n]o, [A]ll, [N]one, [r]ename: ^C\n"
     ]
    }
   ],
   "source": [
    "\n",
    "%cd /Applications/\n",
    "! curl -L -O https://download.elastic.co/elasticsearch/elasticsearch/elasticsearch-1.7.1.zip\n",
    "! unzip    elasticsearch-1.7.1.zip\n"
   ]
  },
  {
   "cell_type": "code",
   "execution_count": 3,
   "metadata": {},
   "outputs": [
    {
     "name": "stdout",
     "output_type": "stream",
     "text": [
      "/Applications/elasticsearch-1.7.1\n",
      "total 56\r\n",
      "-rw-rw-r--   1 hiddejessen  admin  11358 23 mrt  2015 LICENSE.txt\r\n",
      "-rw-rw-r--   1 hiddejessen  admin    150  9 jun  2015 NOTICE.txt\r\n",
      "-rw-rw-r--   1 hiddejessen  admin   8700  9 jun  2015 README.textile\r\n",
      "drwxr-xr-x  12 hiddejessen  admin    384 29 jul  2015 \u001b[1m\u001b[36mbin\u001b[m\u001b[m\r\n",
      "drwxr-xr-x   4 hiddejessen  admin    128 29 jul  2015 \u001b[1m\u001b[36mconfig\u001b[m\u001b[m\r\n",
      "drwxr-xr-x   3 hiddejessen  admin     96 26 sep 17:10 \u001b[1m\u001b[36mdata\u001b[m\u001b[m\r\n",
      "drwxr-xr-x  26 hiddejessen  admin    832 29 jul  2015 \u001b[1m\u001b[36mlib\u001b[m\u001b[m\r\n",
      "drwxr-xr-x   5 hiddejessen  admin    160 26 sep 17:10 \u001b[1m\u001b[36mlogs\u001b[m\u001b[m\r\n",
      "drwxr-xr-x   3 hiddejessen  admin     96 26 sep 17:04 \u001b[1m\u001b[36mplugins\u001b[m\u001b[m\r\n"
     ]
    }
   ],
   "source": [
    "! rm elasticsearch-1.7.1.zip\n",
    "%cd /Applications/elasticsearch-1.7.1\n",
    "!ls -l"
   ]
  },
  {
   "cell_type": "code",
   "execution_count": 4,
   "metadata": {},
   "outputs": [
    {
     "name": "stdout",
     "output_type": "stream",
     "text": [
      "-> Installing elasticsearch/marvel/latest...\r\n",
      "Failed to install elasticsearch/marvel/latest, reason: plugin directory /Applications/elasticsearch-1.7.1/plugins/marvel already exists. To update the plugin, uninstall it first using --remove elasticsearch/marvel/latest command\r\n"
     ]
    }
   ],
   "source": [
    "! ./bin/plugin -i elasticsearch/marvel/latest\n",
    "! echo 'marvel.agent.enabled: false' >> ./config/elasticsearch.yml"
   ]
  },
  {
   "cell_type": "code",
   "execution_count": 5,
   "metadata": {},
   "outputs": [
    {
     "name": "stdout",
     "output_type": "stream",
     "text": [
      "{\r\n",
      "  \"status\" : 200,\r\n",
      "  \"name\" : \"Meanstreak\",\r\n",
      "  \"cluster_name\" : \"elasticsearch\",\r\n",
      "  \"version\" : {\r\n",
      "    \"number\" : \"1.7.1\",\r\n",
      "    \"build_hash\" : \"b88f43fc40b0bcd7f173a1f9ee2e97816de80b19\",\r\n",
      "    \"build_timestamp\" : \"2015-07-29T09:54:16Z\",\r\n",
      "    \"build_snapshot\" : false,\r\n",
      "    \"lucene_version\" : \"4.10.4\"\r\n",
      "  },\r\n",
      "  \"tagline\" : \"You Know, for Search\"\r\n",
      "}\r\n"
     ]
    }
   ],
   "source": [
    "!curl 'http://localhost:9200/?pretty'"
   ]
  },
  {
   "cell_type": "code",
   "execution_count": 3,
   "metadata": {},
   "outputs": [
    {
     "name": "stdout",
     "output_type": "stream",
     "text": [
      "Collecting elasticsearch\n",
      "  Using cached https://files.pythonhosted.org/packages/df/63/86cfe50a11621240450322509f8eacac14f3381cbf43aee2fe56db8c7c8a/elasticsearch-7.0.4-py2.py3-none-any.whl\n",
      "Requirement already satisfied: urllib3>=1.21.1 in /anaconda3/lib/python3.7/site-packages (from elasticsearch) (1.24.2)\n",
      "Installing collected packages: elasticsearch\n",
      "Successfully installed elasticsearch-7.0.4\n"
     ]
    },
    {
     "data": {
      "text/plain": [
       "{'took': 1,\n",
       " 'timed_out': False,\n",
       " '_shards': {'total': 0, 'successful': 0, 'failed': 0},\n",
       " 'hits': {'total': 0, 'max_score': 0.0, 'hits': []}}"
      ]
     },
     "execution_count": 3,
     "metadata": {},
     "output_type": "execute_result"
    }
   ],
   "source": [
    "import sys\n",
    "import json\n",
    "!pip install elasticsearch\n",
    "from elasticsearch import Elasticsearch\n",
    "import numpy as np\n",
    "\n",
    "HOST = 'http://localhost:9200/'\n",
    "es = Elasticsearch(hosts=[HOST])\n",
    "\n",
    "\n",
    "query={\n",
    "  \"query\": {\n",
    "    \"match_all\": {}\n",
    "  }\n",
    "}\n",
    "\n",
    "es.search(body=query)"
   ]
  },
  {
   "cell_type": "code",
   "execution_count": 4,
   "metadata": {},
   "outputs": [
    {
     "data": {
      "text/plain": [
       "{'count': 0, '_shards': {'total': 0, 'successful': 0, 'failed': 0}}"
      ]
     },
     "execution_count": 4,
     "metadata": {},
     "output_type": "execute_result"
    }
   ],
   "source": [
    "es.count(body=query)"
   ]
  },
  {
   "cell_type": "code",
   "execution_count": 5,
   "metadata": {},
   "outputs": [
    {
     "data": {
      "text/plain": [
       "{'_index': 'megacorp',\n",
       " '_type': 'employee',\n",
       " '_id': '1',\n",
       " '_version': 1,\n",
       " 'created': True}"
      ]
     },
     "execution_count": 5,
     "metadata": {},
     "output_type": "execute_result"
    }
   ],
   "source": [
    "employee1= {\n",
    "    \"first_name\" : \"John\",\n",
    "    \"last_name\" :  \"Smith\",\n",
    "    \"age\" :        25,\n",
    "    \"about\" :      \"I love to go rock climbing\",\n",
    "    \"interests\": [ \"sports\", \"music\" ]\n",
    "}\n",
    "\n",
    "es.index(index='megacorp', doc_type='employee', id=1, body=employee1)"
   ]
  },
  {
   "cell_type": "code",
   "execution_count": 6,
   "metadata": {},
   "outputs": [
    {
     "name": "stdout",
     "output_type": "stream",
     "text": [
      "{'first_name': 'John', 'last_name': 'Smith', 'age': 25, 'about': 'I love to go rock climbing', 'interests': ['sports', 'music']}\n"
     ]
    }
   ],
   "source": [
    "res = es.get(index='megacorp', doc_type='employee', id=1)\n",
    "print(res['_source'])"
   ]
  },
  {
   "cell_type": "code",
   "execution_count": 7,
   "metadata": {},
   "outputs": [
    {
     "name": "stdout",
     "output_type": "stream",
     "text": [
      "Got 1 Hits:\n",
      "John Smith is  25 years old\n"
     ]
    }
   ],
   "source": [
    "es.indices.refresh(index=\"megacorp\")\n",
    "\n",
    "res = es.search(index=\"megacorp\", body={\"query\": {\"match_all\": {}}})\n",
    "print(\"Got %d Hits:\" % res['hits']['total'])\n",
    "for hit in res['hits']['hits']:\n",
    "    print(\"%(first_name)s %(last_name)s is  %(age)d years old\" % hit[\"_source\"])"
   ]
  },
  {
   "cell_type": "code",
   "execution_count": 8,
   "metadata": {},
   "outputs": [
    {
     "data": {
      "text/plain": [
       "{'took': 10,\n",
       " 'timed_out': False,\n",
       " '_shards': {'total': 5, 'successful': 5, 'failed': 0},\n",
       " 'hits': {'total': 1,\n",
       "  'max_score': 0.30685282,\n",
       "  'hits': [{'_index': 'megacorp',\n",
       "    '_type': 'employee',\n",
       "    '_id': '1',\n",
       "    '_score': 0.30685282,\n",
       "    '_source': {'first_name': 'John',\n",
       "     'last_name': 'Smith',\n",
       "     'age': 25,\n",
       "     'about': 'I love to go rock climbing',\n",
       "     'interests': ['sports', 'music']}}]}}"
      ]
     },
     "execution_count": 8,
     "metadata": {},
     "output_type": "execute_result"
    }
   ],
   "source": [
    "q= {\n",
    "  \"query\": {\n",
    "    \"match\": {\n",
    "      \"last_name\": \"smith\"\n",
    "    }\n",
    "  }\n",
    "}\n",
    "res = es.search(index=\"megacorp\", body=q)\n",
    "res"
   ]
  },
  {
   "cell_type": "code",
   "execution_count": 10,
   "metadata": {},
   "outputs": [
    {
     "data": {
      "text/plain": [
       "[{'_index': 'megacorp',\n",
       "  '_type': 'employee',\n",
       "  '_id': '1',\n",
       "  '_score': 0.30685282,\n",
       "  '_source': {'first_name': 'John',\n",
       "   'last_name': 'Smith',\n",
       "   'age': 25,\n",
       "   'about': 'I love to go rock climbing',\n",
       "   'interests': ['sports', 'music']}}]"
      ]
     },
     "execution_count": 10,
     "metadata": {},
     "output_type": "execute_result"
    }
   ],
   "source": [
    "res['hits']['hits']\n"
   ]
  },
  {
   "cell_type": "code",
   "execution_count": 11,
   "metadata": {},
   "outputs": [
    {
     "data": {
      "text/plain": [
       "0.30685282"
      ]
     },
     "execution_count": 11,
     "metadata": {},
     "output_type": "execute_result"
    }
   ],
   "source": [
    "res['hits']['hits'][0]['_score']"
   ]
  },
  {
   "cell_type": "code",
   "execution_count": 12,
   "metadata": {},
   "outputs": [
    {
     "name": "stdout",
     "output_type": "stream",
     "text": [
      "(10000, 4)\n"
     ]
    },
    {
     "data": {
      "text/html": [
       "<div>\n",
       "<style scoped>\n",
       "    .dataframe tbody tr th:only-of-type {\n",
       "        vertical-align: middle;\n",
       "    }\n",
       "\n",
       "    .dataframe tbody tr th {\n",
       "        vertical-align: top;\n",
       "    }\n",
       "\n",
       "    .dataframe thead th {\n",
       "        text-align: right;\n",
       "    }\n",
       "</style>\n",
       "<table border=\"1\" class=\"dataframe\">\n",
       "  <thead>\n",
       "    <tr style=\"text-align: right;\">\n",
       "      <th></th>\n",
       "      <th>A</th>\n",
       "      <th>B</th>\n",
       "      <th>C</th>\n",
       "      <th>D</th>\n",
       "    </tr>\n",
       "  </thead>\n",
       "  <tbody>\n",
       "    <tr>\n",
       "      <th>0</th>\n",
       "      <td>62</td>\n",
       "      <td>76</td>\n",
       "      <td>92</td>\n",
       "      <td>11</td>\n",
       "    </tr>\n",
       "    <tr>\n",
       "      <th>1</th>\n",
       "      <td>51</td>\n",
       "      <td>70</td>\n",
       "      <td>47</td>\n",
       "      <td>81</td>\n",
       "    </tr>\n",
       "    <tr>\n",
       "      <th>2</th>\n",
       "      <td>84</td>\n",
       "      <td>6</td>\n",
       "      <td>67</td>\n",
       "      <td>10</td>\n",
       "    </tr>\n",
       "    <tr>\n",
       "      <th>3</th>\n",
       "      <td>98</td>\n",
       "      <td>8</td>\n",
       "      <td>75</td>\n",
       "      <td>90</td>\n",
       "    </tr>\n",
       "    <tr>\n",
       "      <th>4</th>\n",
       "      <td>49</td>\n",
       "      <td>56</td>\n",
       "      <td>37</td>\n",
       "      <td>70</td>\n",
       "    </tr>\n",
       "  </tbody>\n",
       "</table>\n",
       "</div>"
      ],
      "text/plain": [
       "    A   B   C   D\n",
       "0  62  76  92  11\n",
       "1  51  70  47  81\n",
       "2  84   6  67  10\n",
       "3  98   8  75  90\n",
       "4  49  56  37  70"
      ]
     },
     "execution_count": 12,
     "metadata": {},
     "output_type": "execute_result"
    }
   ],
   "source": [
    "import numpy as np\n",
    "import pandas as pd\n",
    "\n",
    "N=4\n",
    "\n",
    "df = pd.DataFrame(np.random.randint(0,100,size=(10**N, 4)), columns=list('ABCD'))\n",
    "print(df.shape)\n",
    "df.head()"
   ]
  },
  {
   "cell_type": "code",
   "execution_count": 13,
   "metadata": {},
   "outputs": [
    {
     "data": {
      "text/plain": [
       "['{ \"index\" : { \"_index\" : \"dataframe\", \"_type\" : \"record\" }}',\n",
       " '{\"A\": 62, \"B\": 76, \"C\": 92, \"D\": 11}',\n",
       " '{ \"index\" : { \"_index\" : \"dataframe\", \"_type\" : \"record\" }}',\n",
       " '{\"A\": 51, \"B\": 70, \"C\": 47, \"D\": 81}',\n",
       " '{ \"index\" : { \"_index\" : \"dataframe\", \"_type\" : \"record\" }}',\n",
       " '{\"A\": 84, \"B\": 6, \"C\": 67, \"D\": 10}']"
      ]
     },
     "execution_count": 13,
     "metadata": {},
     "output_type": "execute_result"
    }
   ],
   "source": [
    "INDEX=\"dataframe\"\n",
    "TYPE= \"record\"\n",
    "\n",
    "def rec_to_actions(df):\n",
    "    import json\n",
    "    for record in df.to_dict(orient=\"records\"):\n",
    "        yield ('{ \"index\" : { \"_index\" : \"%s\", \"_type\" : \"%s\" }}'% (INDEX, TYPE))\n",
    "        yield (json.dumps(record, default=int))\n",
    "\n",
    "# what is this?   \n",
    "list(rec_to_actions(df))[:6]"
   ]
  },
  {
   "cell_type": "code",
   "execution_count": 16,
   "metadata": {},
   "outputs": [
    {
     "name": "stdout",
     "output_type": "stream",
     "text": [
      "{\"acknowledged\":true}True\n",
      "CPU times: user 98.3 ms, sys: 13 ms, total: 111 ms\n",
      "Wall time: 676 ms\n"
     ]
    }
   ],
   "source": [
    "%%time \n",
    "!curl -X PUT \"localhost:9200/dataframe\"\n",
    "#from elasticsearch import Elasticsearch\n",
    "e = Elasticsearch() # no args, connect to localhost:9200\n",
    "if not e.indices.exists(INDEX):\n",
    "    raise RuntimeError('index does not exists, use `curl -X PUT \"localhost:9200/%s\"` or in Python `e.indices.create(%s)` and try again'%(INDEX,INDEX))\n",
    "\n",
    "# bulk index    \n",
    "r = e.bulk(rec_to_actions(df), timeout=10 ) # return a dict\n",
    "\n",
    "print(not r[\"errors\"])"
   ]
  },
  {
   "cell_type": "code",
   "execution_count": 17,
   "metadata": {},
   "outputs": [
    {
     "name": "stdout",
     "output_type": "stream",
     "text": [
      "Shape: (10000, 4); RangeIndex(start=0, stop=10000, step=1)\n"
     ]
    }
   ],
   "source": [
    "def index_marks(nrows, chunk_size):\n",
    "    return range(1 * chunk_size, (nrows // chunk_size + 1) * chunk_size, chunk_size)\n",
    "\n",
    "\n",
    "def split(dfm, chunk_size):\n",
    "    indices = index_marks(dfm.shape[0], chunk_size)\n",
    "    return np.split(dfm, indices)\n",
    "\n",
    "# split up the dataframe\n",
    "chunks = split(df, 10**5)\n",
    "\n",
    "\n",
    "# test \n",
    "for c in chunks:\n",
    "    print(\"Shape: {}; {}\".format(c.shape, c.index))\n"
   ]
  },
  {
   "cell_type": "code",
   "execution_count": 18,
   "metadata": {},
   "outputs": [
    {
     "name": "stdout",
     "output_type": "stream",
     "text": [
      "True\n",
      "CPU times: user 135 ms, sys: 8.8 ms, total: 144 ms\n",
      "Wall time: 327 ms\n"
     ]
    }
   ],
   "source": [
    "%%time\n",
    "# Now bulk index all the chunks\n",
    "for c in chunks:\n",
    "    if c.shape[0]>0:\n",
    "        r = e.bulk(rec_to_actions(c), timeout=10 ) # return a dict\n",
    "        print(not r[\"errors\"])"
   ]
  },
  {
   "cell_type": "code",
   "execution_count": 19,
   "metadata": {},
   "outputs": [
    {
     "name": "stdout",
     "output_type": "stream",
     "text": [
      "{\"took\":15,\"timed_out\":false,\"_shards\":{\"total\":5,\"successful\":5,\"failed\":0},\"hits\":{\"total\":2146,\"max_score\":1.0,\"hits\":[{\"_index\":\"dataframe\",\"_type\":\"record\",\"_id\":\"AW1uKpZyBf1aqB9vkl40\",\"_score\":1.0,\"_source\":{\"A\": 30, \"B\": 11, \"C\": 29, \"D\": 14}},{\"_index\":\"dataframe\",\"_type\":\"record\",\"_id\":\"AW1uKpZyBf1aqB9vkl45\",\"_score\":1.0,\"_source\":{\"A\": 39, \"B\": 64, \"C\": 30, \"D\": 40}},{\"_index\":\"dataframe\",\"_type\":\"record\",\"_id\":\"AW1uKpZyBf1aqB9vkl5i\",\"_score\":1.0,\"_source\":{\"A\": 34, \"B\": 8, \"C\": 33, \"D\": 0}},{\"_index\":\"dataframe\",\"_type\":\"record\",\"_id\":\"AW1uKpZyBf1aqB9vkl52\",\"_score\":1.0,\"_source\":{\"A\": 38, \"B\": 36, \"C\": 65, \"D\": 72}},{\"_index\":\"dataframe\",\"_type\":\"record\",\"_id\":\"AW1uKpZzBf1aqB9vkl6K\",\"_score\":1.0,\"_source\":{\"A\": 29, \"B\": 65, \"C\": 60, \"D\": 51}},{\"_index\":\"dataframe\",\"_type\":\"record\",\"_id\":\"AW1uKpZzBf1aqB9vkl6U\",\"_score\":1.0,\"_source\":{\"A\": 37, \"B\": 78, \"C\": 59, \"D\": 60}},{\"_index\":\"dataframe\",\"_type\":\"record\",\"_id\":\"AW1uKpZzBf1aqB9vkl6i\",\"_score\":1.0,\"_source\":{\"A\": 33, \"B\": 67, \"C\": 81, \"D\": 91}},{\"_index\":\"dataframe\",\"_type\":\"record\",\"_id\":\"AW1uKpZzBf1aqB9vkl62\",\"_score\":1.0,\"_source\":{\"A\": 30, \"B\": 89, \"C\": 6, \"D\": 97}},{\"_index\":\"dataframe\",\"_type\":\"record\",\"_id\":\"AW1uKpZzBf1aqB9vkl7C\",\"_score\":1.0,\"_source\":{\"A\": 32, \"B\": 4, \"C\": 66, \"D\": 80}},{\"_index\":\"dataframe\",\"_type\":\"record\",\"_id\":\"AW1uKpZzBf1aqB9vkl8Y\",\"_score\":1.0,\"_source\":{\"A\": 30, \"B\": 26, \"C\": 16, \"D\": 22}}]}}"
     ]
    },
    {
     "data": {
      "text/plain": [
       "{'took': 10,\n",
       " 'timed_out': False,\n",
       " '_shards': {'total': 10, 'successful': 10, 'failed': 0},\n",
       " 'hits': {'total': 20000,\n",
       "  'max_score': 1.0,\n",
       "  'hits': [{'_index': 'dataframe',\n",
       "    '_type': 'record',\n",
       "    '_id': 'AW1uKpZyBf1aqB9vkl4l',\n",
       "    '_score': 1.0,\n",
       "    '_source': {'A': 98, 'B': 8, 'C': 75, 'D': 90}},\n",
       "   {'_index': 'dataframe',\n",
       "    '_type': 'record',\n",
       "    '_id': 'AW1uKpZyBf1aqB9vkl4q',\n",
       "    '_score': 1.0,\n",
       "    '_source': {'A': 40, 'B': 16, 'C': 43, 'D': 71}},\n",
       "   {'_index': 'dataframe',\n",
       "    '_type': 'record',\n",
       "    '_id': 'AW1uKpZyBf1aqB9vkl4v',\n",
       "    '_score': 1.0,\n",
       "    '_source': {'A': 40, 'B': 88, 'C': 43, 'D': 37}},\n",
       "   {'_index': 'dataframe',\n",
       "    '_type': 'record',\n",
       "    '_id': 'AW1uKpZyBf1aqB9vkl40',\n",
       "    '_score': 1.0,\n",
       "    '_source': {'A': 30, 'B': 11, 'C': 29, 'D': 14}},\n",
       "   {'_index': 'dataframe',\n",
       "    '_type': 'record',\n",
       "    '_id': 'AW1uKpZyBf1aqB9vkl45',\n",
       "    '_score': 1.0,\n",
       "    '_source': {'A': 39, 'B': 64, 'C': 30, 'D': 40}},\n",
       "   {'_index': 'dataframe',\n",
       "    '_type': 'record',\n",
       "    '_id': 'AW1uKpZyBf1aqB9vkl5A',\n",
       "    '_score': 1.0,\n",
       "    '_source': {'A': 63, 'B': 61, 'C': 40, 'D': 91}},\n",
       "   {'_index': 'dataframe',\n",
       "    '_type': 'record',\n",
       "    '_id': 'AW1uKpZyBf1aqB9vkl5F',\n",
       "    '_score': 1.0,\n",
       "    '_source': {'A': 67, 'B': 87, 'C': 20, 'D': 53}},\n",
       "   {'_index': 'dataframe',\n",
       "    '_type': 'record',\n",
       "    '_id': 'AW1uKpZyBf1aqB9vkl5K',\n",
       "    '_score': 1.0,\n",
       "    '_source': {'A': 12, 'B': 3, 'C': 91, 'D': 69}},\n",
       "   {'_index': 'dataframe',\n",
       "    '_type': 'record',\n",
       "    '_id': 'AW1uKpZyBf1aqB9vkl5P',\n",
       "    '_score': 1.0,\n",
       "    '_source': {'A': 25, 'B': 74, 'C': 94, 'D': 17}},\n",
       "   {'_index': 'dataframe',\n",
       "    '_type': 'record',\n",
       "    '_id': 'AW1uKpZyBf1aqB9vkl5U',\n",
       "    '_score': 1.0,\n",
       "    '_source': {'A': 68, 'B': 41, 'C': 16, 'D': 37}}]}}"
      ]
     },
     "execution_count": 19,
     "metadata": {},
     "output_type": "execute_result"
    }
   ],
   "source": [
    "!curl -g 'http://localhost:9200/dataframe/_search?q=A:[29%20TO%2039]'\n",
    "# using Python API\n",
    "e.search(q=\"A:[0 TO 100]\")  # try yourself with other queries"
   ]
  },
  {
   "cell_type": "code",
   "execution_count": 20,
   "metadata": {},
   "outputs": [
    {
     "data": {
      "text/plain": [
       "{'acknowledged': True}"
      ]
     },
     "execution_count": 20,
     "metadata": {},
     "output_type": "execute_result"
    }
   ],
   "source": [
    "es.indices.delete(index='dataframe', ignore=[400, 404])"
   ]
  },
  {
   "cell_type": "code",
   "execution_count": 28,
   "metadata": {},
   "outputs": [
    {
     "data": {
      "text/html": [
       "<div>\n",
       "<style scoped>\n",
       "    .dataframe tbody tr th:only-of-type {\n",
       "        vertical-align: middle;\n",
       "    }\n",
       "\n",
       "    .dataframe tbody tr th {\n",
       "        vertical-align: top;\n",
       "    }\n",
       "\n",
       "    .dataframe thead th {\n",
       "        text-align: right;\n",
       "    }\n",
       "</style>\n",
       "<table border=\"1\" class=\"dataframe\">\n",
       "  <thead>\n",
       "    <tr style=\"text-align: right;\">\n",
       "      <th></th>\n",
       "      <th>transcript</th>\n",
       "      <th>comments</th>\n",
       "      <th>description</th>\n",
       "      <th>duration</th>\n",
       "      <th>event</th>\n",
       "      <th>film_date</th>\n",
       "      <th>languages</th>\n",
       "      <th>main_speaker</th>\n",
       "      <th>name</th>\n",
       "      <th>num_speaker</th>\n",
       "      <th>published_date</th>\n",
       "      <th>ratings</th>\n",
       "      <th>related_talks</th>\n",
       "      <th>speaker_occupation</th>\n",
       "      <th>tags</th>\n",
       "      <th>title</th>\n",
       "      <th>views</th>\n",
       "    </tr>\n",
       "    <tr>\n",
       "      <th>url</th>\n",
       "      <th></th>\n",
       "      <th></th>\n",
       "      <th></th>\n",
       "      <th></th>\n",
       "      <th></th>\n",
       "      <th></th>\n",
       "      <th></th>\n",
       "      <th></th>\n",
       "      <th></th>\n",
       "      <th></th>\n",
       "      <th></th>\n",
       "      <th></th>\n",
       "      <th></th>\n",
       "      <th></th>\n",
       "      <th></th>\n",
       "      <th></th>\n",
       "      <th></th>\n",
       "    </tr>\n",
       "  </thead>\n",
       "  <tbody>\n",
       "    <tr>\n",
       "      <th>https://www.ted.com/talks/9_11_healing_the_mothers_who_found_forgiveness_friendship\\n</th>\n",
       "      <td>Phyllis Rodriguez: We are here today because o...</td>\n",
       "      <td>149</td>\n",
       "      <td>Phyllis Rodriguez and Aicha el-Wafi have a pow...</td>\n",
       "      <td>594</td>\n",
       "      <td>TEDWomen 2010</td>\n",
       "      <td>12-12-2010</td>\n",
       "      <td>32</td>\n",
       "      <td>Aicha el-Wafi + Phyllis Rodriguez</td>\n",
       "      <td>Aicha el-Wafi + Phyllis Rodriguez: The mothers...</td>\n",
       "      <td>1</td>\n",
       "      <td>02-05-2011</td>\n",
       "      <td>[{'id': 10, 'name': 'Inspiring', 'count': 385}...</td>\n",
       "      <td>[{'id': 968, 'hero': 'https://pe.tedcdn.com/im...</td>\n",
       "      <td>9/11 mothers</td>\n",
       "      <td>['culture', 'friendship', 'global issues', 'pa...</td>\n",
       "      <td>The mothers who found forgiveness, friendship</td>\n",
       "      <td>820976</td>\n",
       "    </tr>\n",
       "    <tr>\n",
       "      <th>https://www.ted.com/talks/a_j_jacobs_year_of_living_biblically\\n</th>\n",
       "      <td>I thought I'd tell you a little about what I l...</td>\n",
       "      <td>583</td>\n",
       "      <td>Author, philosopher, prankster and journalist ...</td>\n",
       "      <td>1060</td>\n",
       "      <td>EG 2007</td>\n",
       "      <td>02-12-2007</td>\n",
       "      <td>39</td>\n",
       "      <td>AJ Jacobs</td>\n",
       "      <td>AJ Jacobs: My year of living biblically</td>\n",
       "      <td>1</td>\n",
       "      <td>17-07-2008</td>\n",
       "      <td>[{'id': 22, 'name': 'Fascinating', 'count': 53...</td>\n",
       "      <td>[{'id': 86, 'hero': 'https://pe.tedcdn.com/ima...</td>\n",
       "      <td>Author</td>\n",
       "      <td>['comedy', 'culture', 'entertainment', 'humani...</td>\n",
       "      <td>My year of living biblically</td>\n",
       "      <td>2291701</td>\n",
       "    </tr>\n",
       "    <tr>\n",
       "      <th>https://www.ted.com/talks/a_robot_that_flies_like_a_bird\\n</th>\n",
       "      <td>It is a dream of mankind to fly like a bird. B...</td>\n",
       "      <td>440</td>\n",
       "      <td>Plenty of robots can fly -- but none can fly l...</td>\n",
       "      <td>379</td>\n",
       "      <td>TEDGlobal 2011</td>\n",
       "      <td>15-07-2011</td>\n",
       "      <td>45</td>\n",
       "      <td>Markus Fischer</td>\n",
       "      <td>Markus Fischer: A robot that flies like a bird</td>\n",
       "      <td>1</td>\n",
       "      <td>22-07-2011</td>\n",
       "      <td>[{'id': 23, 'name': 'Jaw-dropping', 'count': 1...</td>\n",
       "      <td>[{'id': 195, 'hero': 'https://pe.tedcdn.com/im...</td>\n",
       "      <td>Designer</td>\n",
       "      <td>['animals', 'biomechanics', 'biomimicry', 'des...</td>\n",
       "      <td>A robot that flies like a bird</td>\n",
       "      <td>6264902</td>\n",
       "    </tr>\n",
       "    <tr>\n",
       "      <th>https://www.ted.com/talks/a_ted_speaker_s_worst_nightmare\\n</th>\n",
       "      <td>Today I'm going to talk about unexpected disco...</td>\n",
       "      <td>324</td>\n",
       "      <td>Colin Robertson had 3 minutes on the TED stage...</td>\n",
       "      <td>229</td>\n",
       "      <td>TED2012</td>\n",
       "      <td>01-03-2012</td>\n",
       "      <td>51</td>\n",
       "      <td>Improv Everywhere</td>\n",
       "      <td>Improv Everywhere: A TED speaker's worst night...</td>\n",
       "      <td>1</td>\n",
       "      <td>09-03-2012</td>\n",
       "      <td>[{'id': 2, 'name': 'Confusing', 'count': 186},...</td>\n",
       "      <td>[{'id': 1269, 'hero': 'https://pe.tedcdn.com/i...</td>\n",
       "      <td>Social energy entrepreneur</td>\n",
       "      <td>['entertainment', 'performance', 'performance ...</td>\n",
       "      <td>A TED speaker's worst nightmare</td>\n",
       "      <td>2950307</td>\n",
       "    </tr>\n",
       "    <tr>\n",
       "      <th>https://www.ted.com/talks/a_whistleblower_you_haven_t_heard\\n</th>\n",
       "      <td>(Whistling)(Whistling ends)(Applause)Thank you...</td>\n",
       "      <td>93</td>\n",
       "      <td>World champion whistler Geert Chatrou performs...</td>\n",
       "      <td>716</td>\n",
       "      <td>TEDxRotterdam 2010</td>\n",
       "      <td>04-06-2010</td>\n",
       "      <td>31</td>\n",
       "      <td>Geert Chatrou</td>\n",
       "      <td>Geert Chatrou: A whistleblower you haven't heard</td>\n",
       "      <td>1</td>\n",
       "      <td>11-02-2011</td>\n",
       "      <td>[{'id': 23, 'name': 'Jaw-dropping', 'count': 2...</td>\n",
       "      <td>[{'id': 1001, 'hero': 'https://pe.tedcdn.com/i...</td>\n",
       "      <td>Whistler</td>\n",
       "      <td>['TEDx', 'entertainment', 'live music', 'music...</td>\n",
       "      <td>A whistleblower you haven't heard</td>\n",
       "      <td>1917442</td>\n",
       "    </tr>\n",
       "  </tbody>\n",
       "</table>\n",
       "</div>"
      ],
      "text/plain": [
       "                                                                                           transcript  \\\n",
       "url                                                                                                     \n",
       "https://www.ted.com/talks/9_11_healing_the_moth...  Phyllis Rodriguez: We are here today because o...   \n",
       "https://www.ted.com/talks/a_j_jacobs_year_of_li...  I thought I'd tell you a little about what I l...   \n",
       "https://www.ted.com/talks/a_robot_that_flies_li...  It is a dream of mankind to fly like a bird. B...   \n",
       "https://www.ted.com/talks/a_ted_speaker_s_worst...  Today I'm going to talk about unexpected disco...   \n",
       "https://www.ted.com/talks/a_whistleblower_you_h...  (Whistling)(Whistling ends)(Applause)Thank you...   \n",
       "\n",
       "                                                    comments  \\\n",
       "url                                                            \n",
       "https://www.ted.com/talks/9_11_healing_the_moth...       149   \n",
       "https://www.ted.com/talks/a_j_jacobs_year_of_li...       583   \n",
       "https://www.ted.com/talks/a_robot_that_flies_li...       440   \n",
       "https://www.ted.com/talks/a_ted_speaker_s_worst...       324   \n",
       "https://www.ted.com/talks/a_whistleblower_you_h...        93   \n",
       "\n",
       "                                                                                          description  \\\n",
       "url                                                                                                     \n",
       "https://www.ted.com/talks/9_11_healing_the_moth...  Phyllis Rodriguez and Aicha el-Wafi have a pow...   \n",
       "https://www.ted.com/talks/a_j_jacobs_year_of_li...  Author, philosopher, prankster and journalist ...   \n",
       "https://www.ted.com/talks/a_robot_that_flies_li...  Plenty of robots can fly -- but none can fly l...   \n",
       "https://www.ted.com/talks/a_ted_speaker_s_worst...  Colin Robertson had 3 minutes on the TED stage...   \n",
       "https://www.ted.com/talks/a_whistleblower_you_h...  World champion whistler Geert Chatrou performs...   \n",
       "\n",
       "                                                    duration  \\\n",
       "url                                                            \n",
       "https://www.ted.com/talks/9_11_healing_the_moth...       594   \n",
       "https://www.ted.com/talks/a_j_jacobs_year_of_li...      1060   \n",
       "https://www.ted.com/talks/a_robot_that_flies_li...       379   \n",
       "https://www.ted.com/talks/a_ted_speaker_s_worst...       229   \n",
       "https://www.ted.com/talks/a_whistleblower_you_h...       716   \n",
       "\n",
       "                                                                 event  \\\n",
       "url                                                                      \n",
       "https://www.ted.com/talks/9_11_healing_the_moth...       TEDWomen 2010   \n",
       "https://www.ted.com/talks/a_j_jacobs_year_of_li...             EG 2007   \n",
       "https://www.ted.com/talks/a_robot_that_flies_li...      TEDGlobal 2011   \n",
       "https://www.ted.com/talks/a_ted_speaker_s_worst...             TED2012   \n",
       "https://www.ted.com/talks/a_whistleblower_you_h...  TEDxRotterdam 2010   \n",
       "\n",
       "                                                     film_date  languages  \\\n",
       "url                                                                         \n",
       "https://www.ted.com/talks/9_11_healing_the_moth...  12-12-2010         32   \n",
       "https://www.ted.com/talks/a_j_jacobs_year_of_li...  02-12-2007         39   \n",
       "https://www.ted.com/talks/a_robot_that_flies_li...  15-07-2011         45   \n",
       "https://www.ted.com/talks/a_ted_speaker_s_worst...  01-03-2012         51   \n",
       "https://www.ted.com/talks/a_whistleblower_you_h...  04-06-2010         31   \n",
       "\n",
       "                                                                         main_speaker  \\\n",
       "url                                                                                     \n",
       "https://www.ted.com/talks/9_11_healing_the_moth...  Aicha el-Wafi + Phyllis Rodriguez   \n",
       "https://www.ted.com/talks/a_j_jacobs_year_of_li...                          AJ Jacobs   \n",
       "https://www.ted.com/talks/a_robot_that_flies_li...                     Markus Fischer   \n",
       "https://www.ted.com/talks/a_ted_speaker_s_worst...                  Improv Everywhere   \n",
       "https://www.ted.com/talks/a_whistleblower_you_h...                      Geert Chatrou   \n",
       "\n",
       "                                                                                                 name  \\\n",
       "url                                                                                                     \n",
       "https://www.ted.com/talks/9_11_healing_the_moth...  Aicha el-Wafi + Phyllis Rodriguez: The mothers...   \n",
       "https://www.ted.com/talks/a_j_jacobs_year_of_li...            AJ Jacobs: My year of living biblically   \n",
       "https://www.ted.com/talks/a_robot_that_flies_li...     Markus Fischer: A robot that flies like a bird   \n",
       "https://www.ted.com/talks/a_ted_speaker_s_worst...  Improv Everywhere: A TED speaker's worst night...   \n",
       "https://www.ted.com/talks/a_whistleblower_you_h...   Geert Chatrou: A whistleblower you haven't heard   \n",
       "\n",
       "                                                    num_speaker  \\\n",
       "url                                                               \n",
       "https://www.ted.com/talks/9_11_healing_the_moth...            1   \n",
       "https://www.ted.com/talks/a_j_jacobs_year_of_li...            1   \n",
       "https://www.ted.com/talks/a_robot_that_flies_li...            1   \n",
       "https://www.ted.com/talks/a_ted_speaker_s_worst...            1   \n",
       "https://www.ted.com/talks/a_whistleblower_you_h...            1   \n",
       "\n",
       "                                                   published_date  \\\n",
       "url                                                                 \n",
       "https://www.ted.com/talks/9_11_healing_the_moth...     02-05-2011   \n",
       "https://www.ted.com/talks/a_j_jacobs_year_of_li...     17-07-2008   \n",
       "https://www.ted.com/talks/a_robot_that_flies_li...     22-07-2011   \n",
       "https://www.ted.com/talks/a_ted_speaker_s_worst...     09-03-2012   \n",
       "https://www.ted.com/talks/a_whistleblower_you_h...     11-02-2011   \n",
       "\n",
       "                                                                                              ratings  \\\n",
       "url                                                                                                     \n",
       "https://www.ted.com/talks/9_11_healing_the_moth...  [{'id': 10, 'name': 'Inspiring', 'count': 385}...   \n",
       "https://www.ted.com/talks/a_j_jacobs_year_of_li...  [{'id': 22, 'name': 'Fascinating', 'count': 53...   \n",
       "https://www.ted.com/talks/a_robot_that_flies_li...  [{'id': 23, 'name': 'Jaw-dropping', 'count': 1...   \n",
       "https://www.ted.com/talks/a_ted_speaker_s_worst...  [{'id': 2, 'name': 'Confusing', 'count': 186},...   \n",
       "https://www.ted.com/talks/a_whistleblower_you_h...  [{'id': 23, 'name': 'Jaw-dropping', 'count': 2...   \n",
       "\n",
       "                                                                                        related_talks  \\\n",
       "url                                                                                                     \n",
       "https://www.ted.com/talks/9_11_healing_the_moth...  [{'id': 968, 'hero': 'https://pe.tedcdn.com/im...   \n",
       "https://www.ted.com/talks/a_j_jacobs_year_of_li...  [{'id': 86, 'hero': 'https://pe.tedcdn.com/ima...   \n",
       "https://www.ted.com/talks/a_robot_that_flies_li...  [{'id': 195, 'hero': 'https://pe.tedcdn.com/im...   \n",
       "https://www.ted.com/talks/a_ted_speaker_s_worst...  [{'id': 1269, 'hero': 'https://pe.tedcdn.com/i...   \n",
       "https://www.ted.com/talks/a_whistleblower_you_h...  [{'id': 1001, 'hero': 'https://pe.tedcdn.com/i...   \n",
       "\n",
       "                                                            speaker_occupation  \\\n",
       "url                                                                              \n",
       "https://www.ted.com/talks/9_11_healing_the_moth...                9/11 mothers   \n",
       "https://www.ted.com/talks/a_j_jacobs_year_of_li...                      Author   \n",
       "https://www.ted.com/talks/a_robot_that_flies_li...                    Designer   \n",
       "https://www.ted.com/talks/a_ted_speaker_s_worst...  Social energy entrepreneur   \n",
       "https://www.ted.com/talks/a_whistleblower_you_h...                    Whistler   \n",
       "\n",
       "                                                                                                 tags  \\\n",
       "url                                                                                                     \n",
       "https://www.ted.com/talks/9_11_healing_the_moth...  ['culture', 'friendship', 'global issues', 'pa...   \n",
       "https://www.ted.com/talks/a_j_jacobs_year_of_li...  ['comedy', 'culture', 'entertainment', 'humani...   \n",
       "https://www.ted.com/talks/a_robot_that_flies_li...  ['animals', 'biomechanics', 'biomimicry', 'des...   \n",
       "https://www.ted.com/talks/a_ted_speaker_s_worst...  ['entertainment', 'performance', 'performance ...   \n",
       "https://www.ted.com/talks/a_whistleblower_you_h...  ['TEDx', 'entertainment', 'live music', 'music...   \n",
       "\n",
       "                                                                                            title  \\\n",
       "url                                                                                                 \n",
       "https://www.ted.com/talks/9_11_healing_the_moth...  The mothers who found forgiveness, friendship   \n",
       "https://www.ted.com/talks/a_j_jacobs_year_of_li...                   My year of living biblically   \n",
       "https://www.ted.com/talks/a_robot_that_flies_li...                 A robot that flies like a bird   \n",
       "https://www.ted.com/talks/a_ted_speaker_s_worst...                A TED speaker's worst nightmare   \n",
       "https://www.ted.com/talks/a_whistleblower_you_h...              A whistleblower you haven't heard   \n",
       "\n",
       "                                                      views  \n",
       "url                                                          \n",
       "https://www.ted.com/talks/9_11_healing_the_moth...   820976  \n",
       "https://www.ted.com/talks/a_j_jacobs_year_of_li...  2291701  \n",
       "https://www.ted.com/talks/a_robot_that_flies_li...  6264902  \n",
       "https://www.ted.com/talks/a_ted_speaker_s_worst...  2950307  \n",
       "https://www.ted.com/talks/a_whistleblower_you_h...  1917442  "
      ]
     },
     "execution_count": 28,
     "metadata": {},
     "output_type": "execute_result"
    }
   ],
   "source": [
    "df1=pd.read_csv(\"Data/ted-talks/ted_main.csv\", index_col='url')\n",
    "df2=pd.read_csv(\"Data/ted-talks/transcripts.csv\", index_col='url')\n",
    "\n",
    "import datetime \n",
    "\n",
    "df1['film_date'] = df1['film_date'].apply(lambda x: datetime.datetime.fromtimestamp( int(x)).strftime('%d-%m-%Y'))\n",
    "df1['published_date'] = df1['published_date'].apply(lambda x: datetime.datetime.fromtimestamp( int(x)).strftime('%d-%m-%Y'))\n",
    "tedx=df2.join(df1)\n",
    "tedx.head()"
   ]
  },
  {
   "cell_type": "code",
   "execution_count": null,
   "metadata": {},
   "outputs": [],
   "source": []
  }
 ],
 "metadata": {
  "anaconda-cloud": {},
  "kernelspec": {
   "display_name": "Python 3",
   "language": "python",
   "name": "python3"
  },
  "language_info": {
   "codemirror_mode": {
    "name": "ipython",
    "version": 3
   },
   "file_extension": ".py",
   "mimetype": "text/x-python",
   "name": "python",
   "nbconvert_exporter": "python",
   "pygments_lexer": "ipython3",
   "version": "3.7.3"
  },
  "toc": {
   "nav_menu": {},
   "number_sections": true,
   "sideBar": true,
   "skip_h1_title": false,
   "title_cell": "Table of Contents",
   "title_sidebar": "Contents",
   "toc_cell": true,
   "toc_position": {},
   "toc_section_display": true,
   "toc_window_display": false
  }
 },
 "nbformat": 4,
 "nbformat_minor": 1
}
